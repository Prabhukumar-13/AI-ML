{
  "nbformat": 4,
  "nbformat_minor": 0,
  "metadata": {
    "colab": {
      "provenance": []
    },
    "kernelspec": {
      "name": "python3",
      "display_name": "Python 3"
    },
    "language_info": {
      "name": "python"
    }
  },
  "cells": [
    {
      "cell_type": "code",
      "execution_count": 5,
      "metadata": {
        "colab": {
          "base_uri": "https://localhost:8080/"
        },
        "id": "nn80EjspNHJG",
        "outputId": "88181572-9e49-41d8-c0fd-4b32b29cebd7"
      },
      "outputs": [
        {
          "output_type": "stream",
          "name": "stdout",
          "text": [
            "BFS Traversal:\n",
            "0 1 3 2 5 4 "
          ]
        }
      ],
      "source": [
        "from collections import deque\n",
        "\n",
        "def bfs(graph, start):\n",
        "    visited = set()\n",
        "    queue = deque([start])\n",
        "\n",
        "    while queue:\n",
        "        current_vertex = queue.popleft()\n",
        "        if current_vertex not in visited:\n",
        "            print(current_vertex, end=\" \")\n",
        "            visited.add(current_vertex)\n",
        "\n",
        "            queue.extend(neighbor for neighbor in graph[current_vertex] if neighbor not in visited)\n",
        "\n",
        "graph = {\n",
        "    0: [1, 3],\n",
        "    1: [0, 2, 5],\n",
        "    2: [1],\n",
        "    3: [0, 4],\n",
        "    4: [3, 5],\n",
        "    5: [1, 4]\n",
        "}\n",
        "\n",
        "start_vertex = 0\n",
        "\n",
        "print(\"BFS Traversal:\")\n",
        "bfs(graph, start_vertex)\n"
      ]
    },
    {
      "cell_type": "code",
      "source": [
        "def dfs(graph, start):\n",
        "    visited = set()\n",
        "    stack = [start]\n",
        "\n",
        "    while stack:\n",
        "        current_vertex = stack.pop()\n",
        "        if current_vertex not in visited:\n",
        "            print(current_vertex, end=\" \")\n",
        "            visited.add(current_vertex)\n",
        "\n",
        "            stack.extend(neighbor for neighbor in reversed(graph[current_vertex]) if neighbor not in visited)\n",
        "\n",
        "graph = {\n",
        "    'A': ['B', 'S'],\n",
        "    'B': ['A'],\n",
        "    'C': ['D', 'E', 'F', 'S'],\n",
        "    'D': ['C'],\n",
        "    'E': ['C', 'H', 'F'],\n",
        "    'F': ['C', 'E', 'G'],\n",
        "    'G': ['F', 'H'],\n",
        "    'H': ['E', 'G'],\n",
        "    'S': ['A', 'C']\n",
        "}\n",
        "\n",
        "start_vertex = 'A'\n",
        "\n",
        "print(\"DFS Traversal:\")\n",
        "dfs(graph, start_vertex)\n"
      ],
      "metadata": {
        "colab": {
          "base_uri": "https://localhost:8080/"
        },
        "id": "R9XwxETGN7VS",
        "outputId": "54369770-5cd1-4411-fafa-4ee865080a11"
      },
      "execution_count": 4,
      "outputs": [
        {
          "output_type": "stream",
          "name": "stdout",
          "text": [
            "DFS Traversal:\n",
            "A B S C D E H G F "
          ]
        }
      ]
    },
    {
      "cell_type": "code",
      "source": [
        "from heapq import heappush, heappop\n",
        "\n",
        "initial_state = ((2, 8, 3), (1, 6, 4), (7, 0, 5))\n",
        "final_state = ((1, 2, 3), (8, 0, 4), (7, 6, 5))\n",
        "\n",
        "def heuristic(state):\n",
        "    distance = 0\n",
        "    for i in range(3):\n",
        "        for j in range(3):\n",
        "            value = state[i][j]\n",
        "            if value != 0:\n",
        "                goal_row, goal_col = (value - 1) // 3, (value - 1) % 3\n",
        "                distance += abs(i - goal_row) + abs(j - goal_col)\n",
        "    return distance\n",
        "\n",
        "def astar(initial_state, final_state):\n",
        "    open_list = []\n",
        "    closed_set = set()\n",
        "    heappush(open_list, (heuristic(initial_state), 0, initial_state))\n",
        "    while open_list:\n",
        "        _, g_score, current_state = heappop(open_list)\n",
        "        if current_state == final_state:\n",
        "            return current_state\n",
        "        closed_set.add(current_state)\n",
        "        zero_row, zero_col = -1, -1\n",
        "        for i in range(3):\n",
        "            for j in range(3):\n",
        "                if current_state[i][j] == 0:\n",
        "                    zero_row, zero_col = i, j\n",
        "                    break\n",
        "            if zero_row != -1:\n",
        "                break\n",
        "        for dr, dc in [(0, 1), (1, 0), (0, -1), (-1, 0)]:\n",
        "            new_row, new_col = zero_row + dr, zero_col + dc\n",
        "            if 0 <= new_row < 3 and 0 <= new_col < 3:\n",
        "                new_state = list(map(list, current_state))\n",
        "                new_state[zero_row][zero_col], new_state[new_row][new_col] = new_state[new_row][new_col], new_state[zero_row][zero_col]\n",
        "                new_state = tuple(map(tuple, new_state))\n",
        "                if new_state not in closed_set:\n",
        "                    heappush(open_list, (g_score + 1 + heuristic(new_state), g_score + 1, new_state))\n",
        "    return None\n",
        "\n",
        "result = astar(initial_state, final_state)\n",
        "if result is not None:\n",
        "    print(\"Solution Found:\")\n",
        "    for row in result:\n",
        "        print(row)\n",
        "else:\n",
        "    print(\"No Solution Found.\")\n"
      ],
      "metadata": {
        "colab": {
          "base_uri": "https://localhost:8080/"
        },
        "id": "TnDLTbYSOztQ",
        "outputId": "705d6169-37cd-40b4-fbd2-a4b68c4856fc"
      },
      "execution_count": 3,
      "outputs": [
        {
          "output_type": "stream",
          "name": "stdout",
          "text": [
            "Solution Found:\n",
            "(1, 2, 3)\n",
            "(8, 0, 4)\n",
            "(7, 6, 5)\n"
          ]
        }
      ]
    }
  ]
}