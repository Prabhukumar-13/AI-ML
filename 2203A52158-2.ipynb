{
  "nbformat": 4,
  "nbformat_minor": 0,
  "metadata": {
    "colab": {
      "provenance": []
    },
    "kernelspec": {
      "name": "python3",
      "display_name": "Python 3"
    },
    "language_info": {
      "name": "python"
    }
  },
  "cells": [
    {
      "cell_type": "code",
      "source": [
        "import pandas as pd\n",
        "\n",
        "data_excel = pd.read_excel('/content/dataset.xlsx')\n",
        "data_csv = pd.read_csv('/content/dataset.csv')\n",
        "data_tsv = pd.read_csv('/content/dataset.tsv', sep='\\t')\n",
        "\n",
        "print(data_excel)\n",
        "print(data_csv)\n",
        "print(data_tsv)\n",
        "\n",
        "# Provide the correct raw URL of the CSV file on GitHub\n",
        "url = 'https://raw.githubusercontent.com/Deekshithpoleboina/AI-ML/main/dataset.csv'\n",
        "df_url = pd.read_csv(url)\n",
        "print(\"\\nData from URL:\")\n",
        "print(df_url)\n"
      ],
      "metadata": {
        "colab": {
          "base_uri": "https://localhost:8080/"
        },
        "id": "e62Xeof3snpO",
        "outputId": "059ceb2a-bc64-4799-dac2-0bdc36e57fe9"
      },
      "execution_count": 3,
      "outputs": [
        {
          "output_type": "stream",
          "name": "stdout",
          "text": [
            "      name  age  height  weight\n",
            "0  rithwik   19     145      46\n",
            "1   vishal   21     151      50\n",
            "2   harsha   25     170      76\n",
            "3   ramesh   30     163      61\n",
            "      name  age  height  weight\n",
            "0  rithwik   19     145      46\n",
            "1   vishal   21     151      50\n",
            "2   harsha   25     170      76\n",
            "3   ramesh   30     163      61\n",
            "  name,age,height,weight\n",
            "0      rithwik,19,145,46\n",
            "1       vishal,21,151,50\n",
            "2       harsha,25,170,76\n",
            "3       ramesh,30,163,61\n",
            "\n",
            "Data from URL:\n",
            "      name  age  height  weight\n",
            "0  rithwik   19     145      46\n",
            "1   vishal   21     151      50\n",
            "2   harsha   25     170      76\n",
            "3   ramesh   30     163      61\n"
          ]
        }
      ]
    },
    {
      "cell_type": "code",
      "source": [],
      "metadata": {
        "id": "1lhtSUtQss1e"
      },
      "execution_count": null,
      "outputs": []
    }
  ]
}